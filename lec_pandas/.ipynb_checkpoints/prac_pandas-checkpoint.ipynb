{
 "cells": [
  {
   "cell_type": "markdown",
   "id": "sensitive-extension",
   "metadata": {},
   "source": [
    "### 13 Seriesの作成"
   ]
  },
  {
   "cell_type": "code",
   "execution_count": 1,
   "id": "subject-handling",
   "metadata": {},
   "outputs": [],
   "source": [
    "import pandas as pd"
   ]
  },
  {
   "cell_type": "code",
   "execution_count": 3,
   "id": "corresponding-postage",
   "metadata": {},
   "outputs": [
    {
     "name": "stdout",
     "output_type": "stream",
     "text": [
      "0    7\n",
      "1    8\n",
      "2    9\n",
      "dtype: int64\n"
     ]
    }
   ],
   "source": [
    "a_list = [7,8,9]\n",
    "s1 = pd.Series(a_list)\n",
    "print(s1)"
   ]
  },
  {
   "cell_type": "code",
   "execution_count": 5,
   "id": "suspended-giving",
   "metadata": {},
   "outputs": [
    {
     "name": "stdout",
     "output_type": "stream",
     "text": [
      "0    7.0\n",
      "1    8.0\n",
      "2    9.0\n",
      "dtype: float64\n"
     ]
    }
   ],
   "source": [
    "a_list = [7,8,9]\n",
    "s1 = pd.Series(a_list,dtype=float)\n",
    "print(s1)"
   ]
  },
  {
   "cell_type": "code",
   "execution_count": 6,
   "id": "packed-behavior",
   "metadata": {},
   "outputs": [
    {
     "name": "stdout",
     "output_type": "stream",
     "text": [
      "0     APPLE\n",
      "1    ORANGE\n",
      "2    BANANA\n",
      "dtype: object\n"
     ]
    }
   ],
   "source": [
    "a_arr = ['APPLE','ORANGE','BANANA']\n",
    "s1 = pd.Series(a_arr)\n",
    "print(s1)"
   ]
  },
  {
   "cell_type": "code",
   "execution_count": 8,
   "id": "extended-lyric",
   "metadata": {},
   "outputs": [
    {
     "name": "stdout",
     "output_type": "stream",
     "text": [
      "APPLE       7\n",
      "ORANGE      8\n",
      "BANANA    900\n",
      "dtype: int64\n"
     ]
    }
   ],
   "source": [
    "val = [7,8,900]\n",
    "name = ['APPLE','ORANGE','BANANA']\n",
    "s1 = pd.Series(val,index=name)\n",
    "print(s1)"
   ]
  },
  {
   "cell_type": "code",
   "execution_count": 13,
   "id": "intellectual-september",
   "metadata": {},
   "outputs": [
    {
     "name": "stdout",
     "output_type": "stream",
     "text": [
      "apple     7\n",
      "orange    8\n",
      "banana    9\n",
      "dtype: int64\n"
     ]
    }
   ],
   "source": [
    "a_dic = {'apple': 7,'orange':8 ,'banana':9}\n",
    "s5 = pd.Series(a_dic)\n",
    "print(s5)"
   ]
  },
  {
   "cell_type": "code",
   "execution_count": 18,
   "id": "acute-belarus",
   "metadata": {},
   "outputs": [
    {
     "name": "stdout",
     "output_type": "stream",
     "text": [
      "apple     7.0\n",
      "banana    9.0\n",
      "orange    8.0\n",
      "cherry    NaN\n",
      "dtype: float64\n"
     ]
    }
   ],
   "source": [
    "a_dic2 = {'apple': 7,'orange':8 ,'banana':9}\n",
    "name = ['apple','banana','orange','cherry']\n",
    "s6 = pd.Series(a_dic2,index=name)\n",
    "print(s6)"
   ]
  },
  {
   "cell_type": "markdown",
   "id": "conservative-hollywood",
   "metadata": {},
   "source": [
    "### Seriesの参照"
   ]
  },
  {
   "cell_type": "code",
   "execution_count": 2,
   "id": "southwest-defense",
   "metadata": {},
   "outputs": [],
   "source": [
    "import pandas as pd"
   ]
  },
  {
   "cell_type": "code",
   "execution_count": 3,
   "id": "neutral-tract",
   "metadata": {},
   "outputs": [],
   "source": [
    "a_dic = {'apple': 7,'orange':8 ,'banana':9}\n",
    "s5 = pd.Series(a_dic)"
   ]
  },
  {
   "cell_type": "code",
   "execution_count": 4,
   "id": "literary-breathing",
   "metadata": {},
   "outputs": [
    {
     "data": {
      "text/plain": [
       "apple     7\n",
       "orange    8\n",
       "banana    9\n",
       "dtype: int64"
      ]
     },
     "execution_count": 4,
     "metadata": {},
     "output_type": "execute_result"
    }
   ],
   "source": [
    "s5"
   ]
  },
  {
   "cell_type": "code",
   "execution_count": 5,
   "id": "everyday-lodge",
   "metadata": {},
   "outputs": [
    {
     "name": "stdout",
     "output_type": "stream",
     "text": [
      "apple     7\n",
      "orange    8\n",
      "banana    9\n",
      "dtype: int64\n"
     ]
    }
   ],
   "source": [
    "print(s5)"
   ]
  },
  {
   "cell_type": "code",
   "execution_count": 6,
   "id": "hungry-roman",
   "metadata": {},
   "outputs": [
    {
     "data": {
      "text/plain": [
       "7"
      ]
     },
     "execution_count": 6,
     "metadata": {},
     "output_type": "execute_result"
    }
   ],
   "source": [
    "s5[\"apple\"]"
   ]
  },
  {
   "cell_type": "code",
   "execution_count": 7,
   "id": "natural-powder",
   "metadata": {},
   "outputs": [],
   "source": [
    "###要素の位置の参照"
   ]
  },
  {
   "cell_type": "code",
   "execution_count": 10,
   "id": "parental-drain",
   "metadata": {},
   "outputs": [
    {
     "data": {
      "text/plain": [
       "7"
      ]
     },
     "execution_count": 10,
     "metadata": {},
     "output_type": "execute_result"
    }
   ],
   "source": [
    "s5[0]"
   ]
  },
  {
   "cell_type": "code",
   "execution_count": 21,
   "id": "pediatric-lewis",
   "metadata": {},
   "outputs": [],
   "source": [
    "#### スライス位置を指定して抽出\n",
    "#### 終了位置ー１までの要素が取り出される"
   ]
  },
  {
   "cell_type": "code",
   "execution_count": 13,
   "id": "difficult-atlantic",
   "metadata": {},
   "outputs": [
    {
     "data": {
      "text/plain": [
       "apple     7\n",
       "orange    8\n",
       "dtype: int64"
      ]
     },
     "execution_count": 13,
     "metadata": {},
     "output_type": "execute_result"
    }
   ],
   "source": [
    "s5[\"apple\":'orange']"
   ]
  },
  {
   "cell_type": "code",
   "execution_count": 20,
   "id": "round-destiny",
   "metadata": {},
   "outputs": [
    {
     "data": {
      "text/plain": [
       "orange    8\n",
       "banana    9\n",
       "dtype: int64"
      ]
     },
     "execution_count": 20,
     "metadata": {},
     "output_type": "execute_result"
    }
   ],
   "source": [
    "s5[1:3]"
   ]
  },
  {
   "cell_type": "code",
   "execution_count": 23,
   "id": "falling-today",
   "metadata": {},
   "outputs": [
    {
     "data": {
      "text/plain": [
       "array([7, 8, 9])"
      ]
     },
     "execution_count": 23,
     "metadata": {},
     "output_type": "execute_result"
    }
   ],
   "source": [
    "s5.values"
   ]
  },
  {
   "cell_type": "code",
   "execution_count": 24,
   "id": "twenty-motel",
   "metadata": {},
   "outputs": [
    {
     "data": {
      "text/plain": [
       "Index(['apple', 'orange', 'banana'], dtype='object')"
      ]
     },
     "execution_count": 24,
     "metadata": {},
     "output_type": "execute_result"
    }
   ],
   "source": [
    "s5.index"
   ]
  },
  {
   "cell_type": "code",
   "execution_count": 25,
   "id": "cross-sculpture",
   "metadata": {},
   "outputs": [
    {
     "data": {
      "text/plain": [
       "['apple', 'orange', 'banana']"
      ]
     },
     "execution_count": 25,
     "metadata": {},
     "output_type": "execute_result"
    }
   ],
   "source": [
    "list(s5.index)"
   ]
  },
  {
   "cell_type": "code",
   "execution_count": null,
   "id": "genuine-marker",
   "metadata": {},
   "outputs": [],
   "source": [
    "#### 条件入力した抽出"
   ]
  },
  {
   "cell_type": "code",
   "execution_count": 26,
   "id": "grand-evidence",
   "metadata": {},
   "outputs": [
    {
     "data": {
      "text/plain": [
       "orange    8\n",
       "banana    9\n",
       "dtype: int64"
      ]
     },
     "execution_count": 26,
     "metadata": {},
     "output_type": "execute_result"
    }
   ],
   "source": [
    "s5[s5>7]"
   ]
  },
  {
   "cell_type": "code",
   "execution_count": 27,
   "id": "medieval-portrait",
   "metadata": {},
   "outputs": [
    {
     "data": {
      "text/plain": [
       "apple     False\n",
       "orange     True\n",
       "banana     True\n",
       "dtype: bool"
      ]
     },
     "execution_count": 27,
     "metadata": {},
     "output_type": "execute_result"
    }
   ],
   "source": [
    "s5 > 7"
   ]
  },
  {
   "cell_type": "code",
   "execution_count": 28,
   "id": "printable-rebate",
   "metadata": {},
   "outputs": [],
   "source": [
    "#### INDEXのbool型の大小のみ判断"
   ]
  },
  {
   "cell_type": "markdown",
   "id": "smart-strap",
   "metadata": {},
   "source": [
    "### 15.要素の変更と追加"
   ]
  },
  {
   "cell_type": "code",
   "execution_count": 29,
   "id": "transsexual-tractor",
   "metadata": {},
   "outputs": [],
   "source": [
    "a_dic = {'apple': 7,'orange':8 ,'banana':9}\n",
    "s5 = pd.Series(a_dic)"
   ]
  },
  {
   "cell_type": "code",
   "execution_count": 30,
   "id": "corresponding-rental",
   "metadata": {},
   "outputs": [
    {
     "data": {
      "text/plain": [
       "apple     7\n",
       "orange    8\n",
       "banana    9\n",
       "dtype: int64"
      ]
     },
     "execution_count": 30,
     "metadata": {},
     "output_type": "execute_result"
    }
   ],
   "source": [
    "s5"
   ]
  },
  {
   "cell_type": "code",
   "execution_count": 31,
   "id": "embedded-california",
   "metadata": {},
   "outputs": [],
   "source": [
    "#### 要素の変更　１つ"
   ]
  },
  {
   "cell_type": "code",
   "execution_count": 32,
   "id": "right-suite",
   "metadata": {},
   "outputs": [],
   "source": [
    "s5['apple'] = 100"
   ]
  },
  {
   "cell_type": "code",
   "execution_count": 33,
   "id": "thermal-translator",
   "metadata": {},
   "outputs": [
    {
     "data": {
      "text/plain": [
       "apple     100\n",
       "orange      8\n",
       "banana      9\n",
       "dtype: int64"
      ]
     },
     "execution_count": 33,
     "metadata": {},
     "output_type": "execute_result"
    }
   ],
   "source": [
    "s5"
   ]
  },
  {
   "cell_type": "code",
   "execution_count": 34,
   "id": "exposed-basement",
   "metadata": {},
   "outputs": [],
   "source": [
    "#### 複数要素一括変更"
   ]
  },
  {
   "cell_type": "code",
   "execution_count": 35,
   "id": "interested-porcelain",
   "metadata": {},
   "outputs": [
    {
     "name": "stdout",
     "output_type": "stream",
     "text": [
      "apple     100\n",
      "orange    200\n",
      "banana    200\n",
      "dtype: int64\n"
     ]
    }
   ],
   "source": [
    "s5[1:3] = 200\n",
    "print(s5)"
   ]
  },
  {
   "cell_type": "code",
   "execution_count": 39,
   "id": "after-studio",
   "metadata": {},
   "outputs": [],
   "source": [
    "#### Seriesの追加"
   ]
  },
  {
   "cell_type": "code",
   "execution_count": 36,
   "id": "incident-service",
   "metadata": {},
   "outputs": [],
   "source": [
    "a_list = [7,8,9,]\n",
    "b_list = [10,11]\n",
    "s7 = pd.Series(a_list)\n",
    "s8 = pd.Series(b_list)"
   ]
  },
  {
   "cell_type": "code",
   "execution_count": 37,
   "id": "human-house",
   "metadata": {},
   "outputs": [
    {
     "data": {
      "text/plain": [
       "0    7\n",
       "1    8\n",
       "2    9\n",
       "dtype: int64"
      ]
     },
     "execution_count": 37,
     "metadata": {},
     "output_type": "execute_result"
    }
   ],
   "source": [
    "s7"
   ]
  },
  {
   "cell_type": "code",
   "execution_count": 38,
   "id": "disciplinary-communication",
   "metadata": {},
   "outputs": [
    {
     "data": {
      "text/plain": [
       "0    10\n",
       "1    11\n",
       "dtype: int64"
      ]
     },
     "execution_count": 38,
     "metadata": {},
     "output_type": "execute_result"
    }
   ],
   "source": [
    "s8"
   ]
  },
  {
   "cell_type": "code",
   "execution_count": 40,
   "id": "cardiovascular-musician",
   "metadata": {},
   "outputs": [
    {
     "data": {
      "text/plain": [
       "0     7\n",
       "1     8\n",
       "2     9\n",
       "0    10\n",
       "1    11\n",
       "dtype: int64"
      ]
     },
     "execution_count": 40,
     "metadata": {},
     "output_type": "execute_result"
    }
   ],
   "source": [
    "s7.append(s8)"
   ]
  },
  {
   "cell_type": "markdown",
   "id": "extreme-jason",
   "metadata": {},
   "source": [
    "appendだけだとINDEXがそのまま\n",
    "--> 引数にignore_index = True追加"
   ]
  },
  {
   "cell_type": "code",
   "execution_count": 45,
   "id": "sublime-generation",
   "metadata": {},
   "outputs": [
    {
     "data": {
      "text/plain": [
       "0     7\n",
       "1     8\n",
       "2     9\n",
       "3    10\n",
       "4    11\n",
       "dtype: int64"
      ]
     },
     "execution_count": 45,
     "metadata": {},
     "output_type": "execute_result"
    }
   ],
   "source": [
    "s7.append(s8, ignore_index = True)"
   ]
  },
  {
   "cell_type": "code",
   "execution_count": null,
   "id": "moderate-reconstruction",
   "metadata": {},
   "outputs": [],
   "source": []
  }
 ],
 "metadata": {
  "kernelspec": {
   "display_name": "Python 3",
   "language": "python",
   "name": "python3"
  },
  "language_info": {
   "codemirror_mode": {
    "name": "ipython",
    "version": 3
   },
   "file_extension": ".py",
   "mimetype": "text/x-python",
   "name": "python",
   "nbconvert_exporter": "python",
   "pygments_lexer": "ipython3",
   "version": "3.8.8"
  },
  "toc-autonumbering": true,
  "toc-showcode": false,
  "toc-showmarkdowntxt": false
 },
 "nbformat": 4,
 "nbformat_minor": 5
}
