{
 "cells": [
  {
   "cell_type": "markdown",
   "id": "legendary-pipeline",
   "metadata": {},
   "source": [
    "### Seriesの作成\n",
    "#### Index Value"
   ]
  },
  {
   "cell_type": "code",
   "execution_count": 3,
   "id": "departmental-garlic",
   "metadata": {},
   "outputs": [],
   "source": [
    "import pandas as pd"
   ]
  },
  {
   "cell_type": "code",
   "execution_count": 6,
   "id": "industrial-metabolism",
   "metadata": {},
   "outputs": [
    {
     "name": "stdout",
     "output_type": "stream",
     "text": [
      "0    7\n",
      "1    8\n",
      "2    9\n",
      "dtype: int64\n"
     ]
    }
   ],
   "source": [
    "a_list = [7,8,9]\n",
    "s1 = pd.Series(a_list)\n",
    "print(s1)"
   ]
  },
  {
   "cell_type": "code",
   "execution_count": 7,
   "id": "dress-taylor",
   "metadata": {},
   "outputs": [],
   "source": [
    "### INDEX  DATA"
   ]
  },
  {
   "cell_type": "code",
   "execution_count": 8,
   "id": "eastern-evolution",
   "metadata": {},
   "outputs": [
    {
     "name": "stdout",
     "output_type": "stream",
     "text": [
      "0    7.0\n",
      "1    8.0\n",
      "2    9.0\n",
      "dtype: float64\n"
     ]
    }
   ],
   "source": [
    "a_list = [7,8,9]\n",
    "s1 = pd.Series(a_list,dtype=float)\n",
    "print(s1)"
   ]
  },
  {
   "cell_type": "code",
   "execution_count": 10,
   "id": "creative-lesson",
   "metadata": {},
   "outputs": [
    {
     "name": "stdout",
     "output_type": "stream",
     "text": [
      "0    banana\n",
      "1     apple\n",
      "2    orange\n",
      "dtype: object\n"
     ]
    }
   ],
   "source": [
    "a_arr = ['banana','apple', 'orange']\n",
    "s2 = pd.Series(a_arr)\n",
    "print(s2)"
   ]
  },
  {
   "cell_type": "code",
   "execution_count": 11,
   "id": "vocational-cancer",
   "metadata": {},
   "outputs": [],
   "source": [
    "#### INDEXの指定"
   ]
  },
  {
   "cell_type": "code",
   "execution_count": 12,
   "id": "tracked-paintball",
   "metadata": {},
   "outputs": [
    {
     "name": "stdout",
     "output_type": "stream",
     "text": [
      "apple     7\n",
      "banana    8\n",
      "melon     9\n",
      "dtype: int64\n"
     ]
    }
   ],
   "source": [
    "val = [7,8,9]\n",
    "name = ['apple', 'banana', 'melon']\n",
    "s4 = pd.Series(val,name)\n",
    "print(s4)"
   ]
  },
  {
   "cell_type": "code",
   "execution_count": 13,
   "id": "verbal-satisfaction",
   "metadata": {},
   "outputs": [],
   "source": [
    "#### dictionaly型 KYEで指定"
   ]
  },
  {
   "cell_type": "code",
   "execution_count": 16,
   "id": "durable-chemistry",
   "metadata": {},
   "outputs": [
    {
     "name": "stdout",
     "output_type": "stream",
     "text": [
      "apple      8\n",
      "melon      9\n",
      "banana    10\n",
      "dtype: int64\n"
     ]
    }
   ],
   "source": [
    "a_dic = {'apple':8, 'melon':9, 'banana':10}\n",
    "s5 = pd.Series(a_dic)\n",
    "print(s5)"
   ]
  },
  {
   "cell_type": "code",
   "execution_count": 20,
   "id": "continuous-dealing",
   "metadata": {},
   "outputs": [],
   "source": [
    "#### 欠損値 NaN"
   ]
  },
  {
   "cell_type": "code",
   "execution_count": 22,
   "id": "partial-satellite",
   "metadata": {},
   "outputs": [
    {
     "name": "stdout",
     "output_type": "stream",
     "text": [
      "apple      8.0\n",
      "melon      9.0\n",
      "orange     NaN\n",
      "banana    10.0\n",
      "dtype: float64\n"
     ]
    }
   ],
   "source": [
    "a_dic2 = {'apple':8, 'melon':9, 'banana':10}\n",
    "name = ['apple','melon', 'orange', 'banana']\n",
    "s6 = pd.Series(a_dic2,name)\n",
    "print(s6)"
   ]
  },
  {
   "cell_type": "code",
   "execution_count": null,
   "id": "hungarian-shelf",
   "metadata": {},
   "outputs": [],
   "source": []
  }
 ],
 "metadata": {
  "kernelspec": {
   "display_name": "Python 3",
   "language": "python",
   "name": "python3"
  },
  "language_info": {
   "codemirror_mode": {
    "name": "ipython",
    "version": 3
   },
   "file_extension": ".py",
   "mimetype": "text/x-python",
   "name": "python",
   "nbconvert_exporter": "python",
   "pygments_lexer": "ipython3",
   "version": "3.8.8"
  }
 },
 "nbformat": 4,
 "nbformat_minor": 5
}
